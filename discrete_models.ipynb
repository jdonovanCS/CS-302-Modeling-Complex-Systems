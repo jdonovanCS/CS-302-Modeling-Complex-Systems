{
  "nbformat": 4,
  "nbformat_minor": 0,
  "metadata": {
    "colab": {
      "name": "discrete_models.ipynb",
      "provenance": [],
      "collapsed_sections": [
        "6X3rhDFZ-uhL",
        "xLJ-ph0u-74e"
      ],
      "include_colab_link": true
    },
    "kernelspec": {
      "name": "python3",
      "display_name": "Python 3"
    },
    "language_info": {
      "name": "python"
    }
  },
  "cells": [
    {
      "cell_type": "markdown",
      "metadata": {
        "id": "view-in-github",
        "colab_type": "text"
      },
      "source": [
        "<a href=\"https://colab.research.google.com/github/jdonovanCS/CS-302-Modeling-Complex-Systems/blob/master/discrete_models.ipynb\" target=\"_parent\"><img src=\"https://colab.research.google.com/assets/colab-badge.svg\" alt=\"Open In Colab\"/></a>"
      ]
    },
    {
      "cell_type": "markdown",
      "metadata": {
        "id": "N1bJxfvM-ojA"
      },
      "source": [
        "# **SIR model (epidemiology)**"
      ]
    },
    {
      "cell_type": "code",
      "metadata": {
        "id": "XrvQrFQi3iRE"
      },
      "source": [
        "import numpy as np\n",
        "import matplotlib.pyplot as plt"
      ],
      "execution_count": null,
      "outputs": []
    },
    {
      "cell_type": "code",
      "metadata": {
        "id": "RMnfz6jm3r8R"
      },
      "source": [
        "#parameters\n",
        "N = 10000 #population\n",
        "beta = 1/30*5*1/N #transmission time per contact: 30 days. contacts per day: 5\n",
        "alpha = 1/15 #recovery period: 15 days\n",
        "I0 = 1 #patient zero\n",
        "R0 = 0 #no previous immunity\n",
        "S0 = N - I0 - R0 #N is a conserved quantity"
      ],
      "execution_count": null,
      "outputs": []
    },
    {
      "cell_type": "code",
      "metadata": {
        "id": "mJzsw7bp4ZyS"
      },
      "source": [
        "#discrete steps\n",
        "res = [] #list of results\n",
        "S = S0; I = I0; R = R0 #set initial conditions\n",
        "for t in range(182):\n",
        "  delta_S = -S * (1-(1-beta)**(I)) #expected number of new infections\n",
        "  S += delta_S #S(t+1)\n",
        "  delta_R = alpha*I #expected number of new recoveries\n",
        "  I+= -delta_S - delta_R #I(t+1)\n",
        "  R+= delta_R #R(t+1)\n",
        "  res.append((S,I,R))\n",
        "\n",
        "#zip unpacked list of tuples (n-th elements all together)\n",
        "#map them to arrays\n",
        "St,It,Rt = map(np.array, zip(*res))"
      ],
      "execution_count": null,
      "outputs": []
    },
    {
      "cell_type": "code",
      "metadata": {
        "id": "zsVpqYFZO6HW"
      },
      "source": [
        "#fake data for weekly tests\n",
        "positive_tests = [0,4,0,12,27,82,107,125,277,588,632,750,1251,1300,2012,1775,1901,1413,750,381,120,64,27,55,33,41,19]"
      ],
      "execution_count": null,
      "outputs": []
    },
    {
      "cell_type": "code",
      "metadata": {
        "colab": {
          "base_uri": "https://localhost:8080/"
        },
        "id": "sjFIAOZm5fyO",
        "outputId": "f70f11a9-e904-4127-b43b-fd22a8972c5c"
      },
      "source": [
        "#plot results\n",
        "fig,ax = plt.subplots()\n",
        "ax.plot(St, 'b', label='Susceptible')\n",
        "ax.plot(It, 'r', label='Infectious')\n",
        "ax.plot(Rt, 'g', label='Recovered')\n",
        "ax.plot(7*np.arange(0,len(positive_tests)), positive_tests, 'k', marker ='o',  label='Cases')\n",
        "ax.legend();"
      ],
      "execution_count": null,
      "outputs": [
        {
          "output_type": "display_data",
          "data": {
            "image/png": "[encoded data removed]",
            "text/plain": [
              "<Figure size 432x288 with 1 Axes>"
            ]
          },
          "metadata": {
            "needs_background": "light"
          }
        }
      ]
    },
    {
      "cell_type": "markdown",
      "metadata": {
        "id": "6X3rhDFZ-uhL"
      },
      "source": [
        "# **Lotka-Volterra (ecology)**"
      ]
    },
    {
      "cell_type": "code",
      "metadata": {
        "id": "c78JMB9q-2UP"
      },
      "source": [
        "import numpy as np\n",
        "import matplotlib.pyplot as plt"
      ],
      "execution_count": null,
      "outputs": []
    },
    {
      "cell_type": "markdown",
      "metadata": {
        "id": "xLJ-ph0u-74e"
      },
      "source": [
        "# **MIsinformation model (social media)**"
      ]
    },
    {
      "cell_type": "code",
      "metadata": {
        "id": "2dWpZ8NZ_Gx3"
      },
      "source": [
        "import numpy as np\n",
        "import matplotlib.pyplot as plt"
      ],
      "execution_count": null,
      "outputs": []
    },
    {
      "cell_type": "code",
      "metadata": {
        "id": "liz9wayR4rmz"
      },
      "source": [
        "#parameters\n",
        "N = 10000 #population\n",
        "M0 = 1 #patient zero\n",
        "I0 = N - M0 #informed accounts\n",
        "It0 = 1000 #no informed tweets\n",
        "Mt0 = 1 #no misinformed tweets\n",
        "n = 50 #tweets read per day\n",
        "alpha = 0.01 #I to M conversion probability\n",
        "beta = 0.02 #M to I conversion\n",
        "rhoI = 5 #informed tweets written\n",
        "rhoM = 5 #misinformed tweets written\n",
        "omegaI = 0.005 #correction probability\n",
        "omegaM = 0.005 #distortion probability\n",
        "rI = 0.05 #retweet of informed\n",
        "rM = 0.07 #retweet of misinformed\n",
        "delta = 0.5 #probability of death\n"
      ],
      "execution_count": null,
      "outputs": []
    },
    {
      "cell_type": "code",
      "metadata": {
        "id": "ubss3CXk4tVr"
      },
      "source": [
        "#discrete steps\n",
        "res = [] #list of results\n",
        "I = I0; M = M0; Mt = Mt0; It = It0; #set initial conditions\n",
        "for t in range(182):\n",
        "  delta_I = M*n*(It/(Mt+It))*alpha #expected number of new misinformed\n",
        "  delta_M = I*n*(Mt/(Mt+It))*beta #expected number of new corrections\n",
        "  I += delta_I - delta_M #I(t+1)\n",
        "  M += delta_M - delta_I #M(t+1)\n",
        "  delta_It = I*rhoI + I*n*(Mt/(Mt+It))*omegaI + I*n*(It/(It+Mt))*rI - It*delta\n",
        "  delta_Mt = M*rhoM + M*n*(It/(Mt+It))*omegaM + M*n*(Mt/(It+Mt))*rM - Mt*delta\n",
        "  It += delta_It #It(t+1)\n",
        "  Mt += delta_Mt #Mt(t+1)\n",
        "  res.append((I,M,It,Mt))\n",
        "\n",
        "#zip unpacked list of tuples (n-th elements all together)\n",
        "#map them to arrays\n",
        "Id,Md,Itd,Mtd = map(np.array, zip(*res))"
      ],
      "execution_count": null,
      "outputs": []
    },
    {
      "cell_type": "code",
      "metadata": {
        "colab": {
          "base_uri": "https://localhost:8080/",
          "height": 265
        },
        "id": "srTgZEid4vGj",
        "outputId": "447e3165-46f9-4366-d653-d65c90e3d262"
      },
      "source": [
        "#plot results\n",
        "fig,ax = plt.subplots()\n",
        "ax.plot(Id/N, 'b', label='Informed')\n",
        "ax.plot(Md/N, 'r', label='Misinformed')\n",
        "ax.plot(Itd/(Itd+Mtd), 'k', label='Informed tweets')\n",
        "ax.plot(Mtd/(Itd+Mtd), 'g', label='Misinformed tweets')\n",
        "ax.legend();"
      ],
      "execution_count": null,
      "outputs": [
        {
          "output_type": "display_data",
          "data": {
            "image/png": "[encoded data removed]",
            "text/plain": [
              "<Figure size 432x288 with 1 Axes>"
            ]
          },
          "metadata": {
            "needs_background": "light"
          }
        }
      ]
    }
  ]
}